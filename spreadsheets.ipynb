{
 "cells": [
  {
   "cell_type": "markdown",
   "metadata": {},
   "source": [
    "### Loading different excel sheets in fibooks  \n",
    "\n",
    "Excel spreadsheets containing financial statements can differ a lot. Therefore, fibooks is able to process the majority of financial statements algorithmically/automatically. If this doesn't work, fibooks also allows users to customize the *template* (see second example).  \n",
    "\n",
    "Here, the user can fill in the **final account** of a category (e.g. *Gross Profit* can be the last account in *revenues*) *and* the user can fill in accounts that fibooks should ignore. Often, these are accounts that you want to calculate yourself, like ebit or ebt."
   ]
  },
  {
   "cell_type": "code",
   "execution_count": 1,
   "metadata": {},
   "outputs": [],
   "source": [
    "from fibooks import income_statement\n",
    "import json"
   ]
  },
  {
   "cell_type": "markdown",
   "metadata": {},
   "source": [
    "#### EXAMPLE 1"
   ]
  },
  {
   "cell_type": "markdown",
   "metadata": {},
   "source": [
    "![excel](https://github.com/TimoKats/medium_articles/blob/3450d7ea16177863e3194386664eb62c91218a53/img/Screenshot%20(21).png?raw=true)"
   ]
  },
  {
   "cell_type": "code",
   "execution_count": 2,
   "metadata": {},
   "outputs": [
    {
     "data": {
      "text/html": [
       "<div>\n",
       "<style scoped>\n",
       "    .dataframe tbody tr th:only-of-type {\n",
       "        vertical-align: middle;\n",
       "    }\n",
       "\n",
       "    .dataframe tbody tr th {\n",
       "        vertical-align: top;\n",
       "    }\n",
       "\n",
       "    .dataframe thead th {\n",
       "        text-align: right;\n",
       "    }\n",
       "</style>\n",
       "<table border=\"1\" class=\"dataframe\">\n",
       "  <thead>\n",
       "    <tr style=\"text-align: right;\">\n",
       "      <th></th>\n",
       "      <th>revenue</th>\n",
       "      <th>gross revenue</th>\n",
       "      <th>discounts</th>\n",
       "      <th>net revenue</th>\n",
       "      <th>cogs</th>\n",
       "      <th>raw materials</th>\n",
       "      <th>fulfillment</th>\n",
       "      <th>transaction fees</th>\n",
       "      <th>total cogs</th>\n",
       "      <th>operating expenses</th>\n",
       "      <th>labor</th>\n",
       "      <th>marketing</th>\n",
       "      <th>sga &amp; other</th>\n",
       "      <th>total opex</th>\n",
       "      <th>ebitda</th>\n",
       "      <th>depreciation &amp; amortization</th>\n",
       "      <th>ebit</th>\n",
       "      <th>interest expense</th>\n",
       "      <th>ebt</th>\n",
       "    </tr>\n",
       "  </thead>\n",
       "  <tbody>\n",
       "    <tr>\n",
       "      <th>0</th>\n",
       "      <td>20.0</td>\n",
       "      <td>30.0</td>\n",
       "      <td>40.0</td>\n",
       "      <td>50.0</td>\n",
       "      <td>40.0</td>\n",
       "      <td>30.0</td>\n",
       "      <td>25.00</td>\n",
       "      <td>23.00</td>\n",
       "      <td>6.00</td>\n",
       "      <td>2.00</td>\n",
       "      <td>4.00</td>\n",
       "      <td>4.00</td>\n",
       "      <td>6.00</td>\n",
       "      <td>7.00</td>\n",
       "      <td>2.00</td>\n",
       "      <td>8.00</td>\n",
       "      <td>5.00</td>\n",
       "      <td>3.00</td>\n",
       "      <td>3.00</td>\n",
       "    </tr>\n",
       "    <tr>\n",
       "      <th>1</th>\n",
       "      <td>20.6</td>\n",
       "      <td>30.9</td>\n",
       "      <td>41.2</td>\n",
       "      <td>51.5</td>\n",
       "      <td>41.2</td>\n",
       "      <td>30.9</td>\n",
       "      <td>25.75</td>\n",
       "      <td>23.69</td>\n",
       "      <td>6.18</td>\n",
       "      <td>2.06</td>\n",
       "      <td>4.12</td>\n",
       "      <td>4.12</td>\n",
       "      <td>6.18</td>\n",
       "      <td>7.21</td>\n",
       "      <td>2.06</td>\n",
       "      <td>8.24</td>\n",
       "      <td>5.15</td>\n",
       "      <td>3.09</td>\n",
       "      <td>3.09</td>\n",
       "    </tr>\n",
       "  </tbody>\n",
       "</table>\n",
       "</div>"
      ],
      "text/plain": [
       "   revenue  gross revenue  discounts  net revenue  cogs  raw materials  \\\n",
       "0     20.0           30.0       40.0         50.0  40.0           30.0   \n",
       "1     20.6           30.9       41.2         51.5  41.2           30.9   \n",
       "\n",
       "   fulfillment  transaction fees  total cogs  operating expenses  labor  \\\n",
       "0        25.00             23.00        6.00                2.00   4.00   \n",
       "1        25.75             23.69        6.18                2.06   4.12   \n",
       "\n",
       "   marketing  sga & other  total opex  ebitda  depreciation & amortization  \\\n",
       "0       4.00         6.00        7.00    2.00                         8.00   \n",
       "1       4.12         6.18        7.21    2.06                         8.24   \n",
       "\n",
       "   ebit  interest expense   ebt  \n",
       "0  5.00              3.00  3.00  \n",
       "1  5.15              3.09  3.09  "
      ]
     },
     "execution_count": 2,
     "metadata": {},
     "output_type": "execute_result"
    }
   ],
   "source": [
    "example_1 = income_statement('example 1')\n",
    "example_1.load_excel('income statement 1.xlsx')\n",
    "example_1.content"
   ]
  },
  {
   "cell_type": "markdown",
   "metadata": {},
   "source": [
    "![excel](https://github.com/TimoKats/medium_articles/blob/3450d7ea16177863e3194386664eb62c91218a53/img/Screenshot%20(22).png?raw=true)"
   ]
  },
  {
   "cell_type": "markdown",
   "metadata": {},
   "source": [
    "#### EXAMPLE 2"
   ]
  },
  {
   "cell_type": "markdown",
   "metadata": {},
   "source": [
    "Here, I upload a json with the standard categories of an income statement. In this template, I give the last account of a category (so net revenue is the last account of revenues) and I tell fibooks which accounts it should ignore."
   ]
  },
  {
   "cell_type": "code",
   "execution_count": 3,
   "metadata": {},
   "outputs": [
    {
     "name": "stdout",
     "output_type": "stream",
     "text": [
      "{\n",
      "  \"revenues\": [\n",
      "    \"net revenue\"\n",
      "  ],\n",
      "  \"expenses\": [\n",
      "    \"ebt\"\n",
      "  ],\n",
      "  \"ignore\": [\n",
      "    \"net income\",\n",
      "    \"gross profit\"\n",
      "  ]\n",
      "}\n"
     ]
    }
   ],
   "source": [
    "template = json.load(open('template.json'))\n",
    "print(json.dumps(template, indent=2))"
   ]
  },
  {
   "cell_type": "code",
   "execution_count": 4,
   "metadata": {},
   "outputs": [
    {
     "data": {
      "text/html": [
       "<div>\n",
       "<style scoped>\n",
       "    .dataframe tbody tr th:only-of-type {\n",
       "        vertical-align: middle;\n",
       "    }\n",
       "\n",
       "    .dataframe tbody tr th {\n",
       "        vertical-align: top;\n",
       "    }\n",
       "\n",
       "    .dataframe thead th {\n",
       "        text-align: right;\n",
       "    }\n",
       "</style>\n",
       "<table border=\"1\" class=\"dataframe\">\n",
       "  <thead>\n",
       "    <tr style=\"text-align: right;\">\n",
       "      <th></th>\n",
       "      <th>revenue</th>\n",
       "      <th>gross revenue</th>\n",
       "      <th>discounts</th>\n",
       "      <th>net revenue</th>\n",
       "      <th>cost of goods sold (cogs)</th>\n",
       "      <th>raw materials</th>\n",
       "      <th>fulfillment</th>\n",
       "      <th>transaction fees</th>\n",
       "      <th>total cogs</th>\n",
       "      <th>operating expenses</th>\n",
       "      <th>labor</th>\n",
       "      <th>marketing</th>\n",
       "      <th>sga &amp; other</th>\n",
       "      <th>total opex</th>\n",
       "      <th>ebitda</th>\n",
       "      <th>depreciation &amp; amortization</th>\n",
       "      <th>ebit</th>\n",
       "      <th>interest expense</th>\n",
       "      <th>ebt</th>\n",
       "    </tr>\n",
       "  </thead>\n",
       "  <tbody>\n",
       "    <tr>\n",
       "      <th>0</th>\n",
       "      <td>20.0</td>\n",
       "      <td>30.0</td>\n",
       "      <td>40.0</td>\n",
       "      <td>50.0</td>\n",
       "      <td>40.0</td>\n",
       "      <td>30.0</td>\n",
       "      <td>25.00</td>\n",
       "      <td>23.00</td>\n",
       "      <td>6.00</td>\n",
       "      <td>2.00</td>\n",
       "      <td>4.00</td>\n",
       "      <td>4.00</td>\n",
       "      <td>6.00</td>\n",
       "      <td>7.00</td>\n",
       "      <td>2.00</td>\n",
       "      <td>8.00</td>\n",
       "      <td>5.00</td>\n",
       "      <td>3.00</td>\n",
       "      <td>3.00</td>\n",
       "    </tr>\n",
       "    <tr>\n",
       "      <th>1</th>\n",
       "      <td>20.6</td>\n",
       "      <td>30.9</td>\n",
       "      <td>41.2</td>\n",
       "      <td>51.5</td>\n",
       "      <td>41.2</td>\n",
       "      <td>30.9</td>\n",
       "      <td>25.75</td>\n",
       "      <td>23.69</td>\n",
       "      <td>6.18</td>\n",
       "      <td>2.06</td>\n",
       "      <td>4.12</td>\n",
       "      <td>4.12</td>\n",
       "      <td>6.18</td>\n",
       "      <td>7.21</td>\n",
       "      <td>2.06</td>\n",
       "      <td>8.24</td>\n",
       "      <td>5.15</td>\n",
       "      <td>3.09</td>\n",
       "      <td>3.09</td>\n",
       "    </tr>\n",
       "  </tbody>\n",
       "</table>\n",
       "</div>"
      ],
      "text/plain": [
       "   revenue  gross revenue  discounts  net revenue  cost of goods sold (cogs)  \\\n",
       "0     20.0           30.0       40.0         50.0                       40.0   \n",
       "1     20.6           30.9       41.2         51.5                       41.2   \n",
       "\n",
       "   raw materials  fulfillment  transaction fees  total cogs  \\\n",
       "0           30.0        25.00             23.00        6.00   \n",
       "1           30.9        25.75             23.69        6.18   \n",
       "\n",
       "   operating expenses  labor  marketing  sga & other  total opex  ebitda  \\\n",
       "0                2.00   4.00       4.00         6.00        7.00    2.00   \n",
       "1                2.06   4.12       4.12         6.18        7.21    2.06   \n",
       "\n",
       "   depreciation & amortization  ebit  interest expense   ebt  \n",
       "0                         8.00  5.00              3.00  3.00  \n",
       "1                         8.24  5.15              3.09  3.09  "
      ]
     },
     "execution_count": 4,
     "metadata": {},
     "output_type": "execute_result"
    }
   ],
   "source": [
    "example_2 = income_statement('example 2')\n",
    "example_2.load_excel('income statement 2.xlsx')\n",
    "example_2.set_template('template.json')\n",
    "example_2.content"
   ]
  },
  {
   "cell_type": "markdown",
   "metadata": {},
   "source": [
    "#### EXAMPLE 3"
   ]
  },
  {
   "cell_type": "markdown",
   "metadata": {},
   "source": [
    "![excel](https://github.com/TimoKats/medium_articles/blob/3450d7ea16177863e3194386664eb62c91218a53/img/Screenshot%20(23).png?raw=true)"
   ]
  },
  {
   "cell_type": "code",
   "execution_count": 5,
   "metadata": {},
   "outputs": [
    {
     "data": {
      "text/html": [
       "<div>\n",
       "<style scoped>\n",
       "    .dataframe tbody tr th:only-of-type {\n",
       "        vertical-align: middle;\n",
       "    }\n",
       "\n",
       "    .dataframe tbody tr th {\n",
       "        vertical-align: top;\n",
       "    }\n",
       "\n",
       "    .dataframe thead th {\n",
       "        text-align: right;\n",
       "    }\n",
       "</style>\n",
       "<table border=\"1\" class=\"dataframe\">\n",
       "  <thead>\n",
       "    <tr style=\"text-align: right;\">\n",
       "      <th></th>\n",
       "      <th>revenue</th>\n",
       "      <th>gross revenue</th>\n",
       "      <th>discounts</th>\n",
       "      <th>net revenue</th>\n",
       "      <th>cost of goods sold (cogs)</th>\n",
       "      <th>raw materials</th>\n",
       "      <th>fulfillment</th>\n",
       "      <th>transaction fees</th>\n",
       "      <th>total cogs</th>\n",
       "      <th>operating expenses</th>\n",
       "      <th>labor</th>\n",
       "      <th>marketing</th>\n",
       "      <th>sga &amp; other</th>\n",
       "      <th>total opex</th>\n",
       "      <th>ebitda</th>\n",
       "      <th>depreciation &amp; amortization</th>\n",
       "      <th>ebit</th>\n",
       "      <th>interest expense</th>\n",
       "      <th>ebt</th>\n",
       "    </tr>\n",
       "  </thead>\n",
       "  <tbody>\n",
       "    <tr>\n",
       "      <th>0</th>\n",
       "      <td>20</td>\n",
       "      <td>30</td>\n",
       "      <td>40</td>\n",
       "      <td>50</td>\n",
       "      <td>40</td>\n",
       "      <td>30</td>\n",
       "      <td>25</td>\n",
       "      <td>23</td>\n",
       "      <td>6</td>\n",
       "      <td>2</td>\n",
       "      <td>4</td>\n",
       "      <td>4</td>\n",
       "      <td>6</td>\n",
       "      <td>7</td>\n",
       "      <td>2</td>\n",
       "      <td>8</td>\n",
       "      <td>5</td>\n",
       "      <td>3</td>\n",
       "      <td>3</td>\n",
       "    </tr>\n",
       "  </tbody>\n",
       "</table>\n",
       "</div>"
      ],
      "text/plain": [
       "   revenue  gross revenue  discounts  net revenue  cost of goods sold (cogs)  \\\n",
       "0       20             30         40           50                         40   \n",
       "\n",
       "   raw materials  fulfillment  transaction fees  total cogs  \\\n",
       "0             30           25                23           6   \n",
       "\n",
       "   operating expenses  labor  marketing  sga & other  total opex  ebitda  \\\n",
       "0                   2      4          4            6           7       2   \n",
       "\n",
       "   depreciation & amortization  ebit  interest expense  ebt  \n",
       "0                            8     5                 3    3  "
      ]
     },
     "execution_count": 5,
     "metadata": {},
     "output_type": "execute_result"
    }
   ],
   "source": [
    "example_3 = income_statement('example 3')\n",
    "example_3.load_excel('income statement 3.xlsx')\n",
    "example_3.content"
   ]
  }
 ],
 "metadata": {
  "kernelspec": {
   "display_name": "Python 3.9.5 64-bit",
   "language": "python",
   "name": "python3"
  },
  "language_info": {
   "codemirror_mode": {
    "name": "ipython",
    "version": 3
   },
   "file_extension": ".py",
   "mimetype": "text/x-python",
   "name": "python",
   "nbconvert_exporter": "python",
   "pygments_lexer": "ipython3",
   "version": "3.9.5"
  },
  "orig_nbformat": 4,
  "vscode": {
   "interpreter": {
    "hash": "41635b9303907472245860adb46466f39739461c762444cfcd6d790100f38cbc"
   }
  }
 },
 "nbformat": 4,
 "nbformat_minor": 2
}
